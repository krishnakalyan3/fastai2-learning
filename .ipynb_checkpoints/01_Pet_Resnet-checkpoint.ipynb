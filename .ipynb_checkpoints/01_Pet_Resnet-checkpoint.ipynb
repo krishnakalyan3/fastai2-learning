{
 "cells": [
  {
   "cell_type": "code",
   "execution_count": 1,
   "metadata": {},
   "outputs": [],
   "source": [
    "%matplotlib inline"
   ]
  },
  {
   "cell_type": "code",
   "execution_count": 3,
   "metadata": {},
   "outputs": [],
   "source": [
    "from fastai2.vision.all import *\n",
    "from nbdev.showdoc import *\n",
    "set_seed(2)"
   ]
  },
  {
   "cell_type": "code",
   "execution_count": 9,
   "metadata": {},
   "outputs": [],
   "source": [
    "path = untar_data(URLs.PETS); path\n",
    "path_anno = path/'annotations'\n",
    "path_img = path/'images'\n",
    "fnames = get_image_files(path_img)"
   ]
  },
  {
   "cell_type": "code",
   "execution_count": 11,
   "metadata": {},
   "outputs": [],
   "source": [
    "bs=64"
   ]
  },
  {
   "cell_type": "code",
   "execution_count": 12,
   "metadata": {},
   "outputs": [],
   "source": [
    "dls = ImageDataLoaders.from_path_re(path_img, fnames, pat=r'(.+)_\\d+.jpg$', item_tfms=RandomResizedCrop(460, min_scale=0.75), \n",
    "                                    bs=bs//2, batch_tfms=[*aug_transforms(size=299, max_warp=0), \n",
    "                                    Normalize.from_stats(*imagenet_stats)])"
   ]
  },
  {
   "cell_type": "code",
   "execution_count": 13,
   "metadata": {},
   "outputs": [
    {
     "name": "stderr",
     "output_type": "stream",
     "text": [
      "Downloading: \"https://download.pytorch.org/models/resnet50-19c8e357.pth\" to /home/ubuntu/.cache/torch/checkpoints/resnet50-19c8e357.pth\n",
      "100%|██████████| 97.8M/97.8M [00:05<00:00, 19.6MB/s]\n"
     ]
    }
   ],
   "source": [
    "learn = cnn_learner(dls, resnet50, metrics=error_rate).to_fp16()"
   ]
  },
  {
   "cell_type": "code",
   "execution_count": 14,
   "metadata": {},
   "outputs": [
    {
     "data": {
      "text/html": [],
      "text/plain": [
       "<IPython.core.display.HTML object>"
      ]
     },
     "metadata": {},
     "output_type": "display_data"
    },
    {
     "data": {
      "text/plain": [
       "(0.006918309628963471, 0.0008317637839354575)"
      ]
     },
     "execution_count": 14,
     "metadata": {},
     "output_type": "execute_result"
    },
    {
     "data": {
      "image/png": "[encoded data removed]",
      "text/plain": [
       "<Figure size 432x288 with 1 Axes>"
      ]
     },
     "metadata": {
      "needs_background": "light"
     },
     "output_type": "display_data"
    }
   ],
   "source": [
    "learn.lr_find()"
   ]
  },
  {
   "cell_type": "code",
   "execution_count": 15,
   "metadata": {},
   "outputs": [
    {
     "data": {
      "text/html": [
       "<table border=\"1\" class=\"dataframe\">\n",
       "  <thead>\n",
       "    <tr style=\"text-align: left;\">\n",
       "      <th>epoch</th>\n",
       "      <th>train_loss</th>\n",
       "      <th>valid_loss</th>\n",
       "      <th>error_rate</th>\n",
       "      <th>time</th>\n",
       "    </tr>\n",
       "  </thead>\n",
       "  <tbody>\n",
       "    <tr>\n",
       "      <td>0</td>\n",
       "      <td>0.532103</td>\n",
       "      <td>0.222897</td>\n",
       "      <td>0.064953</td>\n",
       "      <td>00:27</td>\n",
       "    </tr>\n",
       "  </tbody>\n",
       "</table>"
      ],
      "text/plain": [
       "<IPython.core.display.HTML object>"
      ]
     },
     "metadata": {},
     "output_type": "display_data"
    }
   ],
   "source": [
    "learn.fit_one_cycle(1)"
   ]
  },
  {
   "cell_type": "code",
   "execution_count": 16,
   "metadata": {},
   "outputs": [],
   "source": [
    "learn.save('stage-1-50')"
   ]
  },
  {
   "cell_type": "code",
   "execution_count": 17,
   "metadata": {},
   "outputs": [
    {
     "data": {
      "text/html": [
       "<table border=\"1\" class=\"dataframe\">\n",
       "  <thead>\n",
       "    <tr style=\"text-align: left;\">\n",
       "      <th>epoch</th>\n",
       "      <th>train_loss</th>\n",
       "      <th>valid_loss</th>\n",
       "      <th>error_rate</th>\n",
       "      <th>time</th>\n",
       "    </tr>\n",
       "  </thead>\n",
       "  <tbody>\n",
       "    <tr>\n",
       "      <td>0</td>\n",
       "      <td>0.314422</td>\n",
       "      <td>0.193882</td>\n",
       "      <td>0.060893</td>\n",
       "      <td>00:34</td>\n",
       "    </tr>\n",
       "    <tr>\n",
       "      <td>1</td>\n",
       "      <td>0.239904</td>\n",
       "      <td>0.175544</td>\n",
       "      <td>0.058187</td>\n",
       "      <td>00:33</td>\n",
       "    </tr>\n",
       "    <tr>\n",
       "      <td>2</td>\n",
       "      <td>0.181905</td>\n",
       "      <td>0.170867</td>\n",
       "      <td>0.054804</td>\n",
       "      <td>00:33</td>\n",
       "    </tr>\n",
       "  </tbody>\n",
       "</table>"
      ],
      "text/plain": [
       "<IPython.core.display.HTML object>"
      ]
     },
     "metadata": {},
     "output_type": "display_data"
    }
   ],
   "source": [
    "learn.unfreeze()\n",
    "learn.fit_one_cycle(3, lr_max=slice(1e-6,1e-4))"
   ]
  },
  {
   "cell_type": "code",
   "execution_count": 18,
   "metadata": {},
   "outputs": [],
   "source": [
    "learn.load('stage-1-50');"
   ]
  },
  {
   "cell_type": "code",
   "execution_count": 19,
   "metadata": {},
   "outputs": [
    {
     "data": {
      "text/html": [],
      "text/plain": [
       "<IPython.core.display.HTML object>"
      ]
     },
     "metadata": {},
     "output_type": "display_data"
    }
   ],
   "source": [
    "interp = ClassificationInterpretation.from_learner(learn)"
   ]
  },
  {
   "cell_type": "code",
   "execution_count": 20,
   "metadata": {},
   "outputs": [
    {
     "data": {
      "text/plain": [
       "[('/home/ubuntu/.fastai/data/oxford-iiit-pet/images/Ragdoll',\n",
       "  '/home/ubuntu/.fastai/data/oxford-iiit-pet/images/Birman',\n",
       "  10),\n",
       " ('/home/ubuntu/.fastai/data/oxford-iiit-pet/images/staffordshire_bull_terrier',\n",
       "  '/home/ubuntu/.fastai/data/oxford-iiit-pet/images/american_bulldog',\n",
       "  9),\n",
       " ('/home/ubuntu/.fastai/data/oxford-iiit-pet/images/boxer',\n",
       "  '/home/ubuntu/.fastai/data/oxford-iiit-pet/images/american_bulldog',\n",
       "  5),\n",
       " ('/home/ubuntu/.fastai/data/oxford-iiit-pet/images/Bengal',\n",
       "  '/home/ubuntu/.fastai/data/oxford-iiit-pet/images/Egyptian_Mau',\n",
       "  4),\n",
       " ('/home/ubuntu/.fastai/data/oxford-iiit-pet/images/Bengal',\n",
       "  '/home/ubuntu/.fastai/data/oxford-iiit-pet/images/Abyssinian',\n",
       "  3),\n",
       " ('/home/ubuntu/.fastai/data/oxford-iiit-pet/images/British_Shorthair',\n",
       "  '/home/ubuntu/.fastai/data/oxford-iiit-pet/images/Russian_Blue',\n",
       "  3),\n",
       " ('/home/ubuntu/.fastai/data/oxford-iiit-pet/images/Siamese',\n",
       "  '/home/ubuntu/.fastai/data/oxford-iiit-pet/images/Birman',\n",
       "  3),\n",
       " ('/home/ubuntu/.fastai/data/oxford-iiit-pet/images/american_pit_bull_terrier',\n",
       "  '/home/ubuntu/.fastai/data/oxford-iiit-pet/images/staffordshire_bull_terrier',\n",
       "  3),\n",
       " ('/home/ubuntu/.fastai/data/oxford-iiit-pet/images/Egyptian_Mau',\n",
       "  '/home/ubuntu/.fastai/data/oxford-iiit-pet/images/Bengal',\n",
       "  2),\n",
       " ('/home/ubuntu/.fastai/data/oxford-iiit-pet/images/Maine_Coon',\n",
       "  '/home/ubuntu/.fastai/data/oxford-iiit-pet/images/Bengal',\n",
       "  2),\n",
       " ('/home/ubuntu/.fastai/data/oxford-iiit-pet/images/Russian_Blue',\n",
       "  '/home/ubuntu/.fastai/data/oxford-iiit-pet/images/Bombay',\n",
       "  2),\n",
       " ('/home/ubuntu/.fastai/data/oxford-iiit-pet/images/keeshond',\n",
       "  '/home/ubuntu/.fastai/data/oxford-iiit-pet/images/leonberger',\n",
       "  2),\n",
       " ('/home/ubuntu/.fastai/data/oxford-iiit-pet/images/keeshond',\n",
       "  '/home/ubuntu/.fastai/data/oxford-iiit-pet/images/pomeranian',\n",
       "  2),\n",
       " ('/home/ubuntu/.fastai/data/oxford-iiit-pet/images/samoyed',\n",
       "  '/home/ubuntu/.fastai/data/oxford-iiit-pet/images/great_pyrenees',\n",
       "  2),\n",
       " ('/home/ubuntu/.fastai/data/oxford-iiit-pet/images/staffordshire_bull_terrier',\n",
       "  '/home/ubuntu/.fastai/data/oxford-iiit-pet/images/american_pit_bull_terrier',\n",
       "  2)]"
      ]
     },
     "execution_count": 20,
     "metadata": {},
     "output_type": "execute_result"
    }
   ],
   "source": [
    "interp.most_confused(min_val=2)"
   ]
  }
 ],
 "metadata": {
  "kernelspec": {
   "display_name": "Python 3",
   "language": "python",
   "name": "python3"
  },
  "language_info": {
   "codemirror_mode": {
    "name": "ipython",
    "version": 3
   },
   "file_extension": ".py",
   "mimetype": "text/x-python",
   "name": "python",
   "nbconvert_exporter": "python",
   "pygments_lexer": "ipython3",
   "version": "3.7.6"
  }
 },
 "nbformat": 4,
 "nbformat_minor": 4
}
